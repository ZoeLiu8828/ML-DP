{
 "cells": [
  {
   "cell_type": "code",
   "execution_count": 1,
   "metadata": {},
   "outputs": [],
   "source": [
    "import cv2 as cv\n",
    "import numpy as np\n",
    "from imutils.object_detection import non_max_suppression\n",
    "\n",
    "#Create HOG Detector\n",
    "hog = cv.HOGDescriptor()\n",
    "hog.setSVMDetector(cv.HOGDescriptor_getDefaultPeopleDetector())\n",
    "#full_body_classifier = cv.CascadeClassifier('haarcascade_fullbody.xml')\n",
    "\n",
    "cap = cv.VideoCapture('TownCentreXVID.avi')\n",
    "frame_number = 0\n",
    "frame_rate = cap.get(cv.CAP_PROP_FPS)\n",
    "\n",
    "while True:\n",
    "    ret, frame = cap.read()\n",
    "    if frame is None:\n",
    "        break\n",
    "    #Resize the frame\n",
    "    width = int(cap.get(cv.CAP_PROP_FRAME_WIDTH))\n",
    "    hight = int(cap.get(cv.CAP_PROP_FRAME_HEIGHT))\n",
    "    if width > 640 or hight > 480:\n",
    "        fx = 640/width\n",
    "        fy = 480/hight\n",
    "        if fx<fy:\n",
    "            ratio = fx\n",
    "        else:\n",
    "            ratio = fy\n",
    "        frame = cv.resize(frame, None, fx=ratio, fy=ratio, interpolation=cv.INTER_NEAREST)\n",
    "        hight, width,_ = frame.shape\n",
    "    #bodies = full_body_classifier.detectMultiScale(frame)\n",
    "    bodies, _ = hog.detectMultiScale(frame, winStride=(4, 4), padding=(5, 5), scale=1.01)\n",
    "    pick = non_max_suppression(bodies, probs=None, overlapThresh=0.9)\n",
    "  \n",
    "    for (x, y, w, h) in pick:\n",
    "        cv.rectangle(frame, (x, y), (x + w, y + h), (0, 220, 0), 2)\n",
    "        \n",
    "    cv.imshow('output', frame)\n",
    "\n",
    "    keyboard = cv.waitKey(30)\n",
    "    if keyboard == 'q' or keyboard == 27:\n",
    "        break\n",
    "\n",
    "cap.release()\n",
    "cv.destroyAllWindows()\n"
   ]
  }
 ],
 "metadata": {
  "interpreter": {
   "hash": "aee8b7b246df8f9039afb4144a1f6fd8d2ca17a180786b69acc140d282b71a49"
  },
  "kernelspec": {
   "display_name": "Python 3.9.6 64-bit",
   "language": "python",
   "name": "python3"
  },
  "language_info": {
   "codemirror_mode": {
    "name": "ipython",
    "version": 3
   },
   "file_extension": ".py",
   "mimetype": "text/x-python",
   "name": "python",
   "nbconvert_exporter": "python",
   "pygments_lexer": "ipython3",
   "version": "3.9.6"
  },
  "orig_nbformat": 4
 },
 "nbformat": 4,
 "nbformat_minor": 2
}
