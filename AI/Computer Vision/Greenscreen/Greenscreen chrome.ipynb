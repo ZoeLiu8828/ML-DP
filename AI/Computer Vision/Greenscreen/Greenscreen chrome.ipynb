{
 "cells": [
  {
   "cell_type": "code",
   "execution_count": 1,
   "source": [
    "import cv2 as cv\n",
    "import numpy as np"
   ],
   "outputs": [],
   "metadata": {}
  },
  {
   "cell_type": "code",
   "execution_count": 4,
   "source": [
    "#Read images\n",
    "green1 = cv.imread(\"greenScreen01.jpg\")\n",
    "img1 = cv.imread('scenic01.jpg')\n",
    "#Change green screen photo and scenic photo into same size\n",
    "\n",
    "green1 = cv.resize(green1, (1280,720))\n",
    "img1 = cv.resize(img1,(1280,720))\n",
    "#Covert BGR color to HSV color for future filtering.\n",
    "\n",
    "green = cv.cvtColor(green1, cv.COLOR_BGR2HSV)\n",
    "\n",
    "#Set upper bound and lower bound of green color -- To detect green color\n",
    "u_green = np.array([90, 255,255])\n",
    "l_green = np.array([40, 80, 80])\n",
    "\n",
    "mask = cv.inRange(green, l_green, u_green)\n",
    "erode = cv.erode(mask, None, iterations=1)\n",
    "dilate = cv.dilate(erode,None,iterations=1)\n",
    "res= cv.bitwise_and(green, green, mask = dilate)\n",
    "green_change = green - res\n",
    "green_change = cv.cvtColor(green_change, cv.COLOR_HSV2BGR)\n",
    "\n",
    "#Create a blank white image\n",
    "blank = np.zeros((720,1280,3), dtype = 'uint8')\n",
    "blank.fill(255)\n",
    "#Combine green screen and white image\n",
    "blank = np.where(green_change==0, blank, green_change)\n",
    "#Combine green screen and scenic image\n",
    "img = np.where(green_change==0, img1, green_change)\n",
    "\n",
    "\n",
    "\n",
    "final_combine = np.zeros(shape = (720*2, 1280*2,3), dtype='uint8')\n",
    "final_combine[:720, :1280] = green1\n",
    "final_combine[:720, 1280:] = blank\n",
    "final_combine[720:, :1280] = img1\n",
    "final_combine[720:, 1280:] = img\n",
    "\n",
    "scale_down = 0.5\n",
    "comb_scale = cv.resize(final_combine, None, fx= scale_down, fy= scale_down, interpolation= cv.INTER_AREA)\n",
    "\n",
    "cv.imshow('Combined results', comb_scale)\n",
    "\n",
    "cv.waitKey(0)"
   ],
   "outputs": [],
   "metadata": {}
  }
 ],
 "metadata": {
  "orig_nbformat": 4,
  "language_info": {
   "name": "python",
   "version": "3.9.6",
   "mimetype": "text/x-python",
   "codemirror_mode": {
    "name": "ipython",
    "version": 3
   },
   "pygments_lexer": "ipython3",
   "nbconvert_exporter": "python",
   "file_extension": ".py"
  },
  "kernelspec": {
   "name": "python3",
   "display_name": "Python 3.9.6 64-bit"
  },
  "interpreter": {
   "hash": "aee8b7b246df8f9039afb4144a1f6fd8d2ca17a180786b69acc140d282b71a49"
  }
 },
 "nbformat": 4,
 "nbformat_minor": 2
}